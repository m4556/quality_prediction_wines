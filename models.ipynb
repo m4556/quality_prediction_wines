{
 "cells": [
  {
   "cell_type": "code",
   "execution_count": null,
   "metadata": {},
   "outputs": [],
   "source": [
    "import pandas as pd\n",
    "import numpy as np\n",
    "import matplotlib.pyplot as plt\n",
    "import model_evaluation_utils as meu\n",
    "from collections import Counter\n",
    "from sklearn.preprocessing import StandardScaler, LabelEncoder\n",
    "from sklearn.linear_model import LogisticRegression\n",
    "from sklearn.tree import DecisionTreeClassifier\n",
    "from sklearn.ensemble import RandomForestClassifier\n",
    "from sklearn.model_selection import train_test_split, GridSearchCV\n",
    "import xgboost as xgb"
   ]
  },
  {
   "cell_type": "markdown",
   "metadata": {},
   "source": [
    "## Predicting wine quality\n"
   ]
  },
  {
   "cell_type": "markdown",
   "metadata": {},
   "source": [
    "### Feature selection, train test set"
   ]
  },
  {
   "cell_type": "code",
   "execution_count": null,
   "metadata": {},
   "outputs": [],
   "source": [
    "wines = pd.read_csv('data/wines.csv')\n",
    "wine_features = wines.iloc[:,:-3]   \n",
    "label_names = ['low', 'medium', 'high']\n",
    "feature_names = wine_features.columns\n",
    "\n",
    "train_X, test_X, train_y, test_y = train_test_split(wine_features, wines['quality_label'],test_size=0.3, random_state=42) \n",
    "\n",
    "print(Counter(train_y),Counter(test_y)) "
   ]
  },
  {
   "cell_type": "markdown",
   "metadata": {},
   "source": [
    "### Feature scaling"
   ]
  },
  {
   "cell_type": "code",
   "execution_count": null,
   "metadata": {},
   "outputs": [],
   "source": [
    "scaler = StandardScaler().fit(train_X)\n",
    "\n",
    "train_X_scaled = scaler.transform(train_X)\n",
    "test_X_scaled = scaler.transform(test_X)"
   ]
  },
  {
   "cell_type": "markdown",
   "metadata": {},
   "source": [
    "### Model building, prediction and evaluation using Decision Trees"
   ]
  },
  {
   "cell_type": "code",
   "execution_count": null,
   "metadata": {},
   "outputs": [],
   "source": [
    "model_dt = DecisionTreeClassifier()\n",
    "model_dt.fit(train_X_scaled, train_y)\n",
    "\n",
    "predictions = model_dt.predict(test_X_scaled)\n",
    "\n",
    "meu.display_model_performance_metrics(true_labels=test_y, predicted_labels=predictions, classes=label_names)"
   ]
  },
  {
   "cell_type": "markdown",
   "metadata": {},
   "source": [
    "### Feature importance for Decision Trees"
   ]
  },
  {
   "cell_type": "code",
   "execution_count": null,
   "metadata": {},
   "outputs": [],
   "source": [
    "plt.title('Feature Importances for Decision Tree')\n",
    "\n",
    "feat_importances = pd.Series(model_dt.feature_importances_, index=feature_names)\n",
    "f= feat_importances.nlargest(13).plot(kind='barh',color='y',alpha=0.5)"
   ]
  },
  {
   "cell_type": "markdown",
   "metadata": {},
   "source": [
    "### Model building, prediction and evaluation using Random Forests"
   ]
  },
  {
   "cell_type": "code",
   "execution_count": null,
   "metadata": {
    "scrolled": false
   },
   "outputs": [],
   "source": [
    "model_rf = RandomForestClassifier()\n",
    "model_rf.fit(train_X_scaled, train_y)\n",
    "\n",
    "predictions = model_rf.predict(test_X_scaled)\n",
    "\n",
    "meu.display_model_performance_metrics(true_labels=test_y, predicted_labels=predictions, \n",
    "                                      classes=label_names)"
   ]
  },
  {
   "cell_type": "markdown",
   "metadata": {},
   "source": [
    "### Model tuning using GridSearchCV"
   ]
  },
  {
   "cell_type": "code",
   "execution_count": null,
   "metadata": {},
   "outputs": [],
   "source": [
    "parameters_grid = {'n_estimators': [100, 200, 300, 500],'max_features': ['auto', None, 'log2']}\n",
    "grid_search_rf = GridSearchCV(RandomForestClassifier(random_state=42), parameters_grid, cv=5, scoring='accuracy')\n",
    "\n",
    "grid_search_rf.fit(train_X_scaled, train_y)\n",
    "\n",
    "print(grid_search_rf.best_params_)\n",
    "\n",
    "results = grid_search_rf.cv_results_\n",
    "for param, score_mean, score_sd in zip(results['params'], results['mean_test_score'], results['std_test_score']):\n",
    "    print(param, round(score_mean, 4), round(score_sd, 4))"
   ]
  },
  {
   "cell_type": "markdown",
   "metadata": {},
   "source": [
    "### Random Forests with tuned hyperparameters"
   ]
  },
  {
   "cell_type": "code",
   "execution_count": null,
   "metadata": {},
   "outputs": [],
   "source": [
    "model_rf = RandomForestClassifier(n_estimators=200, max_features='auto', random_state=42)\n",
    "model_rf.fit(train_X_scaled, train_y)\n",
    "\n",
    "predictions = model_rf.predict(test_X_scaled)\n",
    "meu.display_model_performance_metrics(true_labels=test_y, predicted_labels=predictions, \n",
    "                                      classes=label_names)"
   ]
  },
  {
   "cell_type": "markdown",
   "metadata": {},
   "source": [
    "### Model building, prediction and evaluation using ensemble methods: XBoost"
   ]
  },
  {
   "cell_type": "code",
   "execution_count": null,
   "metadata": {},
   "outputs": [],
   "source": [
    "model_xgb = xgb.XGBClassifier(seed=42, num_class=14,eval_metric='mlogloss')\n",
    "model_xgb.fit(train_X_scaled, train_y)\n",
    "\n",
    "predictions = model_xgb.predict(test_X_scaled)\n",
    "meu.display_model_performance_metrics(true_labels=test_y, predicted_labels=predictions, \n",
    "                                      classes=label_names)"
   ]
  },
  {
   "cell_type": "markdown",
   "metadata": {},
   "source": [
    "### Model tuning using GridSearchCV"
   ]
  },
  {
   "cell_type": "code",
   "execution_count": null,
   "metadata": {},
   "outputs": [],
   "source": [
    "parameters_grid = {'n_estimators': [100, 200, 300, 500],'max_depth': [5, 10, 15],'learning_rate': [0.3, 0.5]}\n",
    "grid_search_xgb = GridSearchCV(xgb.XGBClassifier(tree_method='exact', seed=42, num_class=14,eval_metric='mlogloss', use_label_encoder=False), parameters_grid, cv=5, scoring='accuracy')\n",
    "\n",
    "grid_search_xgb.fit(train_X_scaled, train_y)\n",
    "\n",
    "print(grid_search_xgb.best_params_)\n",
    "\n",
    "results = grid_search_xgb.cv_results_"
   ]
  },
  {
   "cell_type": "markdown",
   "metadata": {},
   "source": [
    "### XBoost with tuned hyperparameters"
   ]
  },
  {
   "cell_type": "code",
   "execution_count": null,
   "metadata": {},
   "outputs": [],
   "source": [
    "model_xgb = xgb.XGBClassifier(seed=42,num_class=14, max_depth=10, learning_rate=0.3, eval_metric='mlogloss')\n",
    "model_xgb.fit(train_X_scaled, train_y)\n",
    "\n",
    "predictions = model_xgb.predict(test_X_scaled)\n",
    "meu.display_model_performance_metrics(true_labels=test_y, predicted_labels=predictions, \n",
    "                                      classes=label_names)"
   ]
  }
 ],
 "metadata": {
  "kernelspec": {
   "display_name": "Python 3 (ipykernel)",
   "language": "python",
   "name": "python3"
  },
  "language_info": {
   "codemirror_mode": {
    "name": "ipython",
    "version": 3
   },
   "file_extension": ".py",
   "mimetype": "text/x-python",
   "name": "python",
   "nbconvert_exporter": "python",
   "pygments_lexer": "ipython3",
   "version": "3.8.2"
  }
 },
 "nbformat": 4,
 "nbformat_minor": 4
}
